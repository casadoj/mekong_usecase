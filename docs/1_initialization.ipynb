{
 "cells": [
  {
   "cell_type": "markdown",
   "id": "690b3508-d059-4141-9842-06ab3f23e270",
   "metadata": {},
   "source": [
    "![header](images/header.png)\n",
    "\n",
    "# Initialization run\n",
    "<!-- [![Binder](https://mybinder.org/badge_logo.svg)](https://mybinder.org/v2/gh/ec-jrc/lisflood-usecases/mekong_usecase?urlpath=%2Fdoc%2Ftree%2FLF_mekong_usecase%2Fdocs%2Fnotebooks%2F) -->\n",
    "\n",
    "<br>\n",
    "<br>\n",
    "<br>\n",
    "\n",
    "The purpose of the initialization run is to estimate two rate variables required for the model initialization:\n",
    "\n",
    "* `avgdis.nc`:  a map of the average discharge in the river network.\n",
    "* `lzavin.nc`: a map of the average inflow into the lower groundwater zone.\n",
    "\n",
    "We will save these outputs in a specific subfolder (`initial`) within the project folder, so we can use them it the succeeding runs.\n",
    "\n",
    "> **Note**. A thorough explanation on the importance of the model initialization can be found in this section of the [User Guide](https://ec-jrc.github.io/lisflood-code/3_step5_model-initialisation/)."
   ]
  },
  {
   "cell_type": "code",
   "execution_count": 1,
   "id": "4d952ad7-d7c3-447f-b9e7-fabab1bbf621",
   "metadata": {},
   "outputs": [],
   "source": [
    "from pathlib import Path\n",
    "\n",
    "import xarray as xr\n",
    "import matplotlib.pyplot as plt\n",
    "\n",
    "path_model = Path('../LF_mekong_usecase')\n",
    "path_init = path_model / 'results' / 'initial'"
   ]
  },
  {
   "cell_type": "markdown",
   "id": "85a838ba-d620-427d-a5e9-12452b7b035e",
   "metadata": {},
   "source": [
    "## 1 Settings file\n",
    "\n",
    "In the following lines, a snippet of the settings file ([`settings_initialization.xml`](../LF_mekong_usecase/settings_initialization.xml)) shows the most relevant lines to configure the initializatin run.\n",
    "\n",
    "```xml\n",
    "<lfoptions>\n",
    "    \n",
    "    # [...]\n",
    "    \n",
    "    <setoption choice=\"1\" name=\"InitLisflood\"/>\n",
    "    <setoption choice=\"0\" name=\"InitLisfloodwithoutsplit\"/>\n",
    "    \n",
    "    # [...]\n",
    "    \n",
    "</lfoptions>\n",
    "\n",
    "<lfuser>\n",
    "    \n",
    "    # GENERAL SETUP\n",
    "    \n",
    "    # [...]\n",
    "    \n",
    "    # time-related variables\n",
    "    <textvar name=\"CalendarDayStart\" value=\"02-01-1979 00:00\"/>\n",
    "    <textvar name=\"StepStart\" value=\"02-01-1979 00:00\"/>\n",
    "    <textvar name=\"StepEnd\" value=\"01-01-2020 00:00\"/>\n",
    "    <textvar name=\"timestepInit\" value=\"1\"/>\n",
    "    <textvar name=\"DtSec\" value=\"86400\"/>\n",
    "    <textvar name=\"DtSecChannel\" value=\"14400\"/>\n",
    "    \n",
    "    # paths where the results will be saved\n",
    "    <textvar name=\"PathInit\" value=\"$(PathRoot)/results/initial\"/>\n",
    "    <textvar name=\"LZAvInflowMap\" value=\"$(PathInit)/lzavin\"/>\n",
    "    <textvar name=\"AvgDis\" value=\"$(PathInit)/avgdis\"/>\n",
    "    \n",
    "    # [...]\n",
    "    \n",
    "    # INITIAL CONDITIONS\n",
    "    \n",
    "    # water balance\n",
    "    <textvar name=\"OFDirectInitValue\" value=\"0\"/>\n",
    "    <textvar name=\"OFOtherInitValue\" value=\"0\"/>\n",
    "    [...]\n",
    "    \n",
    "    # channels\n",
    "    <textvar name=\"TotalCrossSectionAreaInitValue\" value=\"-9999\"/>\n",
    "    <textvar name=\"CrossSection2AreaInitValue\" value=\"-9999\"/>\n",
    "    <textvar name=\"PrevSideflowInitValue\" value=\"-9999\"/>\n",
    "    <textvar name=\"PrevDischarge\" value=\"-9999\"/>\n",
    "    \n",
    "    # reservoirs\n",
    "    <textvar name=\"ReservoirInitialLevelValue\" value=\"-9999\"/>\n",
    "    \n",
    "    # lakes (if simulateLakes = 1)\n",
    "    <textvar name=\"LakeInitialLevelValue\" value=\"-9999\"/>\n",
    "    <textvar name=\"LakePrevInflowValue\" value=\"-9999\"/>\n",
    "    <textvar name=\"LakePrevOutflowValue\" value=\"-9999\"/>   \n",
    "    \n",
    "    # soils\n",
    "    <textvar name=\"ThetaInit1Value\" value=\"-9999\"/>\n",
    "    <textvar name=\"ThetaInit2Value\" value=\"-9999\"/>\n",
    "    <textvar name=\"ThetaInit3Value\" value=\"-9999\"/>\n",
    "    <textvar name=\"LZInitValue\" value=\"-9999\"/>\n",
    "    [...]\n",
    "    \n",
    "</lfuser>\n",
    "```\n",
    "\n",
    "* In the section `<lfoptions>`:\n",
    "    * The option `InitLisflood` tells LISFLOOD that this run is an initialization. \n",
    "    * Since we are using as a routing module the split kinematic wave, we must deactivate the option `InitLisfloodwithoutsplit`; otherwise, the initialization run will not produce the file `avgdis.nc` and we will not be able to initialize the routing module in succeeding runs. \n",
    "* In the section `<lfuser>`, we must define the simulation period, the location of the output files, and the initial conditions.\n",
    "    * The initialization run spans from 01-01-1979 to 31-12-2019. Following the [end of timestep time convention](https://ec-jrc.github.io/lisflood-code/2_ESSENTIAL_time-management/) in LISFLOOD, the previous dates will be shifted forward by 1 day; that's why in the settings file the `StepStart` and `StepEnd` are 02-01-1979 and 01-01-2020, respectively. \n",
    "    * We will save the two ouput files (`lzavin.nc` and `avgdis.nc`) in a folder named _initial_. It is not necessary to specify the extension of the NetCDF files.\n",
    "    * Regarding the initial conditions, those in the section water balance must be initialized with a value or a map (we define default values of 0 or 1), whereas the rest of the variables can be internally initialized by setting the value -9999.\n",
    "    \n",
    "\n",
    "## 2 Run the simulation\n",
    "\n",
    "To run the simulation, open a terminal, activate the Conda environment where you have installed LISFLOOD and execute the `lisflood` function pointing at the appropriate settings file. For instance:\n",
    "\n",
    "```shell\n",
    "conda activate <your_lisflood_environment>\n",
    "cd <path_where_you_saved_the_repository>/lisflood-usecases\n",
    "lisflood LF_mekong_usecase/settings_initialization.xml\n",
    "```\n",
    "\n",
    "## 3 Outputs\n",
    "\n",
    "The outputs are the two maps (in NetCDF format) mentioned at the top of this notebook. In the settings file, we set that these files must be saved in the `initial` subfolder. Let's load them and inspect them:"
   ]
  },
  {
   "cell_type": "code",
   "execution_count": 2,
   "id": "9e4b086d-98dd-433b-9c7c-d88cb9800e36",
   "metadata": {},
   "outputs": [
    {
     "data": {
      "image/png": "[encoded data removed]",
      "text/plain": [
       "<Figure size 1200x450 with 4 Axes>"
      ]
     },
     "metadata": {},
     "output_type": "display_data"
    }
   ],
   "source": [
    "# load average inflow into the lower groundware zone\n",
    "lzavin = xr.open_dataarray(path_init / 'lzavin.nc')\n",
    "lzavin.close()\n",
    "\n",
    "# load average discharge\n",
    "avgdis = xr.open_dataarray(path_init / 'avgdis.nc')\n",
    "avgdis.close()\n",
    "\n",
    "# plot the maps\n",
    "fig, axes = plt.subplots(ncols=2, figsize=(12, 4.5))\n",
    "for ax, da in zip(axes, [lzavin, avgdis]):\n",
    "    da.plot(ax=ax, cmap='Blues', cbar_kwargs={'shrink': 0.8})\n",
    "    ax.axis('off')"
   ]
  },
  {
   "cell_type": "markdown",
   "id": "f1995376-ea79-46dc-8b31-006193afc37a",
   "metadata": {},
   "source": [
    "***Figure 1**. Output maps of the initialization run.*\n",
    "\n",
    "Both outputs represent an average flow rate, therefore, they are a single map with no temporal dimension."
   ]
  }
 ],
 "metadata": {
  "kernelspec": {
   "display_name": "Python 3 (ipykernel)",
   "language": "python",
   "name": "python3"
  },
  "language_info": {
   "codemirror_mode": {
    "name": "ipython",
    "version": 3
   },
   "file_extension": ".py",
   "mimetype": "text/x-python",
   "name": "python",
   "nbconvert_exporter": "python",
   "pygments_lexer": "ipython3",
   "version": "3.9.23"
  }
 },
 "nbformat": 4,
 "nbformat_minor": 5
}
